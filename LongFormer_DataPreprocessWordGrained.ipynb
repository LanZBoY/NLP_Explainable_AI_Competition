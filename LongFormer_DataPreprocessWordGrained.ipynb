{
 "cells": [
  {
   "cell_type": "code",
   "execution_count": 1,
   "metadata": {},
   "outputs": [],
   "source": [
    "import pandas as pd\n",
    "import numpy as np\n",
    "from nltk import word_tokenize\n",
    "from tqdm import tqdm"
   ]
  },
  {
   "cell_type": "code",
   "execution_count": 2,
   "metadata": {},
   "outputs": [],
   "source": [
    "PUNCATUATION = '''!\\\"#$%&\\'()*+, -./:;<=>?@[\\]^_`{|}~'''"
   ]
  },
  {
   "cell_type": "code",
   "execution_count": 3,
   "metadata": {},
   "outputs": [],
   "source": [
    "def preProcess(sent: str):\n",
    "    sent = sent.strip('\\\"')\n",
    "    sent = word_tokenize(sent)\n",
    "    for i in PUNCATUATION:\n",
    "        if i in sent:\n",
    "            sent = list(filter(i.__ne__, sent))\n",
    "    if len(sent) == 0:\n",
    "        sent.append(' ')\n",
    "    return ' '.join(sent)\n",
    "\n",
    "def compare_token(sent_a_list, sent_b_list):\n",
    "    result_list = []\n",
    "    for sent_a, sent_b in zip(sent_a_list, sent_b_list):\n",
    "        compare_result = []\n",
    "        a_tokens = sent_a.split(sep=' ')\n",
    "        b_tokens = sent_b.split(sep=' ')\n",
    "        a_idx = 0\n",
    "        b_idx = 0\n",
    "        while a_idx < len(a_tokens):\n",
    "            if b_idx == len(b_tokens):\n",
    "                a_idx += 1\n",
    "                compare_result.append(0)\n",
    "                continue\n",
    "            if a_tokens[a_idx] != b_tokens[b_idx]:\n",
    "                a_idx += 1\n",
    "                compare_result.append(0)\n",
    "            elif a_tokens[a_idx] == b_tokens[b_idx]:\n",
    "                a_idx += 1\n",
    "                b_idx += 1\n",
    "                compare_result.append(1)\n",
    "        assert len(a_tokens) == len(compare_result), \"ERROR, Len of tokens not equal to len of result!\"\n",
    "        result_list.append(compare_result)\n",
    "    return result_list\n",
    "    "
   ]
  },
  {
   "cell_type": "code",
   "execution_count": 4,
   "metadata": {},
   "outputs": [],
   "source": [
    "dataFrame = pd.read_csv('./Batch_answers - train_data (no-blank).csv')\n",
    "dataFrame.drop(labels=['Unnamed: 6', 'total no.: 7987'], axis=1 ,inplace=True) # 將不必要的drop掉\n",
    "dataFrame.rename({\"q\\'\":\"Q\", \"r\\'\":\"R\"}, axis=1, inplace=True)"
   ]
  },
  {
   "cell_type": "code",
   "execution_count": 5,
   "metadata": {},
   "outputs": [
    {
     "data": {
      "text/html": [
       "<div>\n",
       "<style scoped>\n",
       "    .dataframe tbody tr th:only-of-type {\n",
       "        vertical-align: middle;\n",
       "    }\n",
       "\n",
       "    .dataframe tbody tr th {\n",
       "        vertical-align: top;\n",
       "    }\n",
       "\n",
       "    .dataframe thead th {\n",
       "        text-align: right;\n",
       "    }\n",
       "</style>\n",
       "<table border=\"1\" class=\"dataframe\">\n",
       "  <thead>\n",
       "    <tr style=\"text-align: right;\">\n",
       "      <th></th>\n",
       "      <th>id</th>\n",
       "      <th>q</th>\n",
       "      <th>r</th>\n",
       "      <th>s</th>\n",
       "      <th>Q</th>\n",
       "      <th>R</th>\n",
       "    </tr>\n",
       "  </thead>\n",
       "  <tbody>\n",
       "    <tr>\n",
       "      <th>16163</th>\n",
       "      <td>4306</td>\n",
       "      <td>\"Lurch/Ungerdunn/Selasphorus -- If you are out...</td>\n",
       "      <td>\"It is my understanding that the rules are if ...</td>\n",
       "      <td>DISAGREE</td>\n",
       "      <td>\"Just try not to get banned this time\"</td>\n",
       "      <td>\"It is my understanding that the rules are if ...</td>\n",
       "    </tr>\n",
       "    <tr>\n",
       "      <th>23220</th>\n",
       "      <td>6158</td>\n",
       "      <td>\"Nice try , but no cigar . It 's been widely r...</td>\n",
       "      <td>\"`` According to the Federal Bureau of Investi...</td>\n",
       "      <td>DISAGREE</td>\n",
       "      <td>\"widely reported rabid hatred of 'gun ownershi...</td>\n",
       "      <td>\"nation 's overall crime rate dropped 6.4 % , ...</td>\n",
       "    </tr>\n",
       "    <tr>\n",
       "      <th>3646</th>\n",
       "      <td>946</td>\n",
       "      <td>\"It 's established in university administratio...</td>\n",
       "      <td>\"Really ? So , university presidents and trust...</td>\n",
       "      <td>DISAGREE</td>\n",
       "      <td>\"It 's established in university administratio...</td>\n",
       "      <td>\"I would like see your evidence of university ...</td>\n",
       "    </tr>\n",
       "    <tr>\n",
       "      <th>3360</th>\n",
       "      <td>876</td>\n",
       "      <td>\"You said that the colour changes are caused b...</td>\n",
       "      <td>\"And you do n't have any picture . You have no...</td>\n",
       "      <td>DISAGREE</td>\n",
       "      <td>\"I call Â variation within a kindÂ\"</td>\n",
       "      <td>\"hierarchy of dominence\"</td>\n",
       "    </tr>\n",
       "    <tr>\n",
       "      <th>20612</th>\n",
       "      <td>5411</td>\n",
       "      <td>\"A firearm in mearley an inanimate piece of st...</td>\n",
       "      <td>\"Wrong . It is a precision machine designed to...</td>\n",
       "      <td>DISAGREE</td>\n",
       "      <td>\"firearm in mearley an inanimate piece of stee...</td>\n",
       "      <td>\"Wrong . It is a precision machine designed to...</td>\n",
       "    </tr>\n",
       "    <tr>\n",
       "      <th>14346</th>\n",
       "      <td>3779</td>\n",
       "      <td>\"You do realize that the rules are supposed to...</td>\n",
       "      <td>\"yes and my post was proving that\"</td>\n",
       "      <td>AGREE</td>\n",
       "      <td>\"You do realize that the rules are supposed to...</td>\n",
       "      <td>\"yes and my post was proving that\"</td>\n",
       "    </tr>\n",
       "  </tbody>\n",
       "</table>\n",
       "</div>"
      ],
      "text/plain": [
       "         id                                                  q  \\\n",
       "16163  4306  \"Lurch/Ungerdunn/Selasphorus -- If you are out...   \n",
       "23220  6158  \"Nice try , but no cigar . It 's been widely r...   \n",
       "3646    946  \"It 's established in university administratio...   \n",
       "3360    876  \"You said that the colour changes are caused b...   \n",
       "20612  5411  \"A firearm in mearley an inanimate piece of st...   \n",
       "14346  3779  \"You do realize that the rules are supposed to...   \n",
       "\n",
       "                                                       r         s  \\\n",
       "16163  \"It is my understanding that the rules are if ...  DISAGREE   \n",
       "23220  \"`` According to the Federal Bureau of Investi...  DISAGREE   \n",
       "3646   \"Really ? So , university presidents and trust...  DISAGREE   \n",
       "3360   \"And you do n't have any picture . You have no...  DISAGREE   \n",
       "20612  \"Wrong . It is a precision machine designed to...  DISAGREE   \n",
       "14346                 \"yes and my post was proving that\"     AGREE   \n",
       "\n",
       "                                                       Q  \\\n",
       "16163             \"Just try not to get banned this time\"   \n",
       "23220  \"widely reported rabid hatred of 'gun ownershi...   \n",
       "3646   \"It 's established in university administratio...   \n",
       "3360                 \"I call Â variation within a kindÂ\"   \n",
       "20612  \"firearm in mearley an inanimate piece of stee...   \n",
       "14346  \"You do realize that the rules are supposed to...   \n",
       "\n",
       "                                                       R  \n",
       "16163  \"It is my understanding that the rules are if ...  \n",
       "23220  \"nation 's overall crime rate dropped 6.4 % , ...  \n",
       "3646   \"I would like see your evidence of university ...  \n",
       "3360                            \"hierarchy of dominence\"  \n",
       "20612  \"Wrong . It is a precision machine designed to...  \n",
       "14346                 \"yes and my post was proving that\"  "
      ]
     },
     "execution_count": 5,
     "metadata": {},
     "output_type": "execute_result"
    }
   ],
   "source": [
    "dataFrame.sample(6) # 看頭六個row 來確認資料屬性"
   ]
  },
  {
   "cell_type": "code",
   "execution_count": 6,
   "metadata": {},
   "outputs": [
    {
     "name": "stdout",
     "output_type": "stream",
     "text": [
      "Preprocessing q ...\n",
      "Preprocessing r ...\n",
      "Preprocessing Q ...\n",
      "Preprocessing R ...\n"
     ]
    }
   ],
   "source": [
    "print(\"Preprocessing q ...\")\n",
    "dataFrame['q'] = dataFrame['q'].map(preProcess)\n",
    "print(\"Preprocessing r ...\")\n",
    "dataFrame['r'] = dataFrame['r'].map(preProcess)\n",
    "print(\"Preprocessing Q ...\")\n",
    "dataFrame['Q'] = dataFrame['Q'].map(preProcess)\n",
    "print(\"Preprocessing R ...\")\n",
    "dataFrame['R'] = dataFrame['R'].map(preProcess)"
   ]
  },
  {
   "cell_type": "code",
   "execution_count": 7,
   "metadata": {},
   "outputs": [
    {
     "name": "stderr",
     "output_type": "stream",
     "text": [
      "100%|██████████| 7987/7987 [00:04<00:00, 1696.90it/s]\n"
     ]
    }
   ],
   "source": [
    "uniqueDatafrme = []\n",
    "for id in tqdm(dataFrame['id'].unique()):\n",
    "    q = dataFrame.query(\"@id == id\")\n",
    "    uniqueDatafrme.append(q.iloc[0])\n",
    "uniqueDatafrme = pd.DataFrame(uniqueDatafrme)"
   ]
  },
  {
   "cell_type": "code",
   "execution_count": 8,
   "metadata": {},
   "outputs": [
    {
     "data": {
      "text/plain": [
       "id                                                    8\n",
       "q     It can go both ways We all doubt It is what yo...\n",
       "r                                                  True\n",
       "s                                                 AGREE\n",
       "Q     It can go both ways We all doubt It is what yo...\n",
       "R                                                  True\n",
       "Name: 0, dtype: object"
      ]
     },
     "execution_count": 8,
     "metadata": {},
     "output_type": "execute_result"
    }
   ],
   "source": [
    "uniqueDatafrme.iloc[0]"
   ]
  },
  {
   "cell_type": "code",
   "execution_count": 9,
   "metadata": {},
   "outputs": [],
   "source": [
    "uniqueDatafrme['com_q'] = compare_token(uniqueDatafrme['q'], uniqueDatafrme['Q'])\n",
    "uniqueDatafrme['com_r'] = compare_token(uniqueDatafrme['r'], uniqueDatafrme['R'])"
   ]
  },
  {
   "cell_type": "code",
   "execution_count": 11,
   "metadata": {},
   "outputs": [
    {
     "data": {
      "text/plain": [
       "DISAGREE    6542\n",
       "AGREE       1445\n",
       "Name: s, dtype: int64"
      ]
     },
     "execution_count": 11,
     "metadata": {},
     "output_type": "execute_result"
    }
   ],
   "source": [
    "uniqueDatafrme['s'].value_counts()"
   ]
  },
  {
   "cell_type": "code",
   "execution_count": 12,
   "metadata": {},
   "outputs": [],
   "source": [
    "uniqueDatafrme.to_csv('LongDocumentPreprocessData.csv', index=False)"
   ]
  }
 ],
 "metadata": {
  "kernelspec": {
   "display_name": "Python 3.10.7 ('bertEnv': venv)",
   "language": "python",
   "name": "python3"
  },
  "language_info": {
   "codemirror_mode": {
    "name": "ipython",
    "version": 3
   },
   "file_extension": ".py",
   "mimetype": "text/x-python",
   "name": "python",
   "nbconvert_exporter": "python",
   "pygments_lexer": "ipython3",
   "version": "3.10.7 (tags/v3.10.7:6cc6b13, Sep  5 2022, 14:08:36) [MSC v.1933 64 bit (AMD64)]"
  },
  "orig_nbformat": 4,
  "vscode": {
   "interpreter": {
    "hash": "3df01a03ced7e680a43031480445f4f42dc074722258fcaa2e3c400917c2a15b"
   }
  }
 },
 "nbformat": 4,
 "nbformat_minor": 2
}
