{
 "cells": [
  {
   "cell_type": "code",
   "execution_count": 1,
   "metadata": {},
   "outputs": [
    {
     "name": "stderr",
     "output_type": "stream",
     "text": [
      "c:\\Users\\Wen2Tee5\\Desktop\\BERT\\bertEnv\\lib\\site-packages\\tqdm\\auto.py:22: TqdmWarning: IProgress not found. Please update jupyter and ipywidgets. See https://ipywidgets.readthedocs.io/en/stable/user_install.html\n",
      "  from .autonotebook import tqdm as notebook_tqdm\n"
     ]
    }
   ],
   "source": [
    "import torch\n",
    "import pandas as pd\n",
    "from transformers import BertModel, BertTokenizer\n",
    "from tqdm import tqdm\n",
    "import nltk\n",
    "BERT_BASE_CASED = 'bert-base-cased'\n",
    "PUNCATUATION = '''!\\\"#$%&\\'()*+, -./:;<=>?@[\\]^_`{|}~'''\n",
    "MAX_LEN = 512"
   ]
  },
  {
   "cell_type": "code",
   "execution_count": 2,
   "metadata": {},
   "outputs": [],
   "source": [
    "def preProcess(sent: str):\n",
    "    sent = sent.strip('\\\"')\n",
    "    sent = nltk.word_tokenize(sent)\n",
    "    for i in PUNCATUATION:\n",
    "        if i in sent:\n",
    "            sent = list(filter(i.__ne__, sent))\n",
    "    if len(sent) == 0:\n",
    "        sent.append(' ')\n",
    "    return ' '.join(sent)"
   ]
  },
  {
   "cell_type": "code",
   "execution_count": 3,
   "metadata": {},
   "outputs": [],
   "source": [
    "def get_cls_indices(target) -> list:\n",
    "    cls_indices = []\n",
    "    for i, data in enumerate(target):\n",
    "        if (data == 101):\n",
    "            cls_indices.append(i)\n",
    "    return cls_indices"
   ]
  },
  {
   "cell_type": "code",
   "execution_count": 4,
   "metadata": {},
   "outputs": [],
   "source": [
    "def get_data(series, tokenizer):\n",
    "    q_sent = nltk.sent_tokenize(series['q'])\n",
    "    q_seg = []\n",
    "    for j in range(len(q_sent)):\n",
    "        q_seg.append(f'[CLS] {preProcess(q_sent[j])} [SEP]')\n",
    "    q = ' '.join(q_seg)\n",
    "    flag = 0\n",
    "    q_inter_seg = []\n",
    "    for word in q.split():\n",
    "        if word == \"[CLS]\":\n",
    "            flag += 1\n",
    "        q_inter_seg.append(flag % 2)\n",
    "    \n",
    "    r_sent = nltk.sent_tokenize(series['r'])\n",
    "    r_seg = []\n",
    "    for j in range(len(r_sent)):\n",
    "        r_seg.append(f'[CLS] {preProcess(r_sent[j])} [SEP]')\n",
    "    r = ' '.join(r_seg)\n",
    "    flag = 0\n",
    "    r_inter_seg = []\n",
    "    for word in r.split():\n",
    "        if word == \"[CLS]\":\n",
    "            flag += 1\n",
    "        r_inter_seg.append(flag % 2)\n",
    "    \n",
    "    q_data = tokenizer.encode_plus(q.split()[:MAX_LEN], return_token_type_ids=False, add_special_tokens=False, truncation = True)\n",
    "    q_data['token_type_ids'] = q_inter_seg[:MAX_LEN]\n",
    "\n",
    "    r_data = tokenizer.encode_plus(r.split()[:MAX_LEN], return_token_type_ids=False, add_special_tokens=False, truncation = True)\n",
    "    r_data['token_type_ids'] = r_inter_seg[:MAX_LEN]\n",
    "    return q_data, r_data, q_sent, r_sent"
   ]
  },
  {
   "cell_type": "code",
   "execution_count": 5,
   "metadata": {},
   "outputs": [],
   "source": [
    "class SentenceSelector(torch.nn.Module):\n",
    "\n",
    "    def __init__(self) -> None:\n",
    "        super(SentenceSelector, self).__init__()\n",
    "        self.linear = torch.nn.Linear(768, 1)\n",
    "\n",
    "    def forward(self, clss_hiddens):\n",
    "        return self.linear(clss_hiddens)\n",
    "class BertSumExtModel(torch.nn.Module):\n",
    "\n",
    "    def __init__(self) -> None:\n",
    "        super(BertSumExtModel, self).__init__()\n",
    "        self.bertModel = BertModel.from_pretrained(BERT_BASE_CASED, return_dict = False)\n",
    "        self.sentenceSelector = SentenceSelector()\n",
    "\n",
    "    def forward(self, q_data, q_clss, r_data, r_clss):\n",
    "        q_hidden = self.bertModel(**q_data)[0]\n",
    "        r_hidden = self.bertModel(**r_data)[0]\n",
    "        q_clss_hidden = q_hidden[0, q_clss]\n",
    "        r_clss_hidden = r_hidden[0, r_clss]\n",
    "        q_out = self.sentenceSelector(q_clss_hidden)\n",
    "        r_out = self.sentenceSelector(r_clss_hidden)\n",
    "        return q_out, r_out"
   ]
  },
  {
   "cell_type": "code",
   "execution_count": 6,
   "metadata": {},
   "outputs": [],
   "source": [
    "df = pd.read_csv('./Batch_answers - test_data(no_label).csv')"
   ]
  },
  {
   "cell_type": "code",
   "execution_count": 7,
   "metadata": {},
   "outputs": [
    {
     "data": {
      "text/plain": [
       "id                                                 5807\n",
       "q     \"There 's a lot of discussion there on that is...\n",
       "r     \"Of course . The makers of Expelled were withi...\n",
       "s                                              DISAGREE\n",
       "Name: 1, dtype: object"
      ]
     },
     "execution_count": 7,
     "metadata": {},
     "output_type": "execute_result"
    }
   ],
   "source": [
    "df.iloc[1]"
   ]
  },
  {
   "cell_type": "code",
   "execution_count": 8,
   "metadata": {},
   "outputs": [
    {
     "name": "stderr",
     "output_type": "stream",
     "text": [
      "Some weights of the model checkpoint at bert-base-cased were not used when initializing BertModel: ['cls.predictions.transform.dense.bias', 'cls.predictions.bias', 'cls.predictions.transform.LayerNorm.weight', 'cls.seq_relationship.weight', 'cls.predictions.transform.LayerNorm.bias', 'cls.predictions.transform.dense.weight', 'cls.seq_relationship.bias', 'cls.predictions.decoder.weight']\n",
      "- This IS expected if you are initializing BertModel from the checkpoint of a model trained on another task or with another architecture (e.g. initializing a BertForSequenceClassification model from a BertForPreTraining model).\n",
      "- This IS NOT expected if you are initializing BertModel from the checkpoint of a model that you expect to be exactly identical (initializing a BertForSequenceClassification model from a BertForSequenceClassification model).\n"
     ]
    },
    {
     "data": {
      "text/plain": [
       "<All keys matched successfully>"
      ]
     },
     "execution_count": 8,
     "metadata": {},
     "output_type": "execute_result"
    }
   ],
   "source": [
    "tokenizer : BertTokenizer = BertTokenizer.from_pretrained(BERT_BASE_CASED)\n",
    "model = BertSumExtModel().cuda()\n",
    "model.load_state_dict(torch.load('./BertSum_WO_Encoder(2).pt'))"
   ]
  },
  {
   "cell_type": "code",
   "execution_count": 9,
   "metadata": {},
   "outputs": [],
   "source": [
    "id_list = []\n",
    "Q_list = []\n",
    "R_list = []"
   ]
  },
  {
   "cell_type": "code",
   "execution_count": 10,
   "metadata": {},
   "outputs": [
    {
     "name": "stderr",
     "output_type": "stream",
     "text": [
      "100%|██████████| 2016/2016 [00:38<00:00, 52.98it/s]\n"
     ]
    }
   ],
   "source": [
    "model.eval()\n",
    "with torch.no_grad():\n",
    "    for i in tqdm(df.index):\n",
    "        series = df.iloc[i]\n",
    "        q_data, r_data, q_sent, r_sent = get_data(series=series, tokenizer=tokenizer)\n",
    "        q_clss = get_cls_indices(q_data['input_ids'])\n",
    "        r_clss = get_cls_indices(r_data['input_ids'])\n",
    "        q_data = {k: torch.tensor([v]).cuda() for k, v in q_data.items()}\n",
    "        r_data = {k: torch.tensor([v]).cuda() for k, v in r_data.items()}\n",
    "        q_clss = torch.tensor([q_clss]).cuda()\n",
    "        r_clss = torch.tensor([r_clss]).cuda()\n",
    "        q_pred, r_pred = model(q_data, q_clss, r_data, r_clss)\n",
    "        q_pred = torch.sigmoid(q_pred)\n",
    "        r_pred = torch.sigmoid(r_pred)\n",
    "        q_index = (q_pred > 0.5).reshape(-1).nonzero().T.squeeze(0).tolist()\n",
    "        r_index = (r_pred > 0.5).reshape(-1).nonzero().T.squeeze(0).tolist()\n",
    "        if not q_index:\n",
    "            q_index.append(q_pred.argmax().item())\n",
    "        if not r_index:\n",
    "            r_index.append(r_pred.argmax().item())\n",
    "        id_list.append(series['id'])\n",
    "        Q_list.append(' '.join([q_sent[index] for index in q_index]))\n",
    "        R_list.append(' '.join([r_sent[index] for index in r_index]))\n",
    "\n"
   ]
  },
  {
   "cell_type": "code",
   "execution_count": 11,
   "metadata": {},
   "outputs": [],
   "source": [
    "submission = pd.DataFrame({\"id\":id_list, \"q\": Q_list, \"r\":R_list})\n",
    "submission.to_csv('./submission.csv', index=False, columns=['id', 'q','r'])"
   ]
  },
  {
   "cell_type": "code",
   "execution_count": 12,
   "metadata": {},
   "outputs": [
    {
     "data": {
      "text/html": [
       "<div>\n",
       "<style scoped>\n",
       "    .dataframe tbody tr th:only-of-type {\n",
       "        vertical-align: middle;\n",
       "    }\n",
       "\n",
       "    .dataframe tbody tr th {\n",
       "        vertical-align: top;\n",
       "    }\n",
       "\n",
       "    .dataframe thead th {\n",
       "        text-align: right;\n",
       "    }\n",
       "</style>\n",
       "<table border=\"1\" class=\"dataframe\">\n",
       "  <thead>\n",
       "    <tr style=\"text-align: right;\">\n",
       "      <th></th>\n",
       "      <th>id</th>\n",
       "      <th>q</th>\n",
       "      <th>r</th>\n",
       "    </tr>\n",
       "  </thead>\n",
       "  <tbody>\n",
       "    <tr>\n",
       "      <th>1925</th>\n",
       "      <td>3821</td>\n",
       "      <td>\"So the stats come from John Lott .... Was n't...</td>\n",
       "      <td>\"And the Violence Policy Center is somehow mor...</td>\n",
       "    </tr>\n",
       "    <tr>\n",
       "      <th>241</th>\n",
       "      <td>1904</td>\n",
       "      <td>All previous attempts to explain how the proce...</td>\n",
       "      <td>\"The first sentence is inaccurate , as is the ...</td>\n",
       "    </tr>\n",
       "    <tr>\n",
       "      <th>474</th>\n",
       "      <td>469</td>\n",
       "      <td>\"The figure comes from a 1936 study by Dr. Fre...</td>\n",
       "      <td>\"So 5,000 to 10,000 women dying from illegal a...</td>\n",
       "    </tr>\n",
       "    <tr>\n",
       "      <th>1681</th>\n",
       "      <td>5547</td>\n",
       "      <td>The thread over there is a compilation of the ...</td>\n",
       "      <td>\"If I 'm so pathetic why do n't you start deba...</td>\n",
       "    </tr>\n",
       "    <tr>\n",
       "      <th>1485</th>\n",
       "      <td>3997</td>\n",
       "      <td>When one asks for or claims proof of a scienti...</td>\n",
       "      <td>If you did n't , all you 'd have a creationism...</td>\n",
       "    </tr>\n",
       "  </tbody>\n",
       "</table>\n",
       "</div>"
      ],
      "text/plain": [
       "        id                                                  q  \\\n",
       "1925  3821  \"So the stats come from John Lott .... Was n't...   \n",
       "241   1904  All previous attempts to explain how the proce...   \n",
       "474    469  \"The figure comes from a 1936 study by Dr. Fre...   \n",
       "1681  5547  The thread over there is a compilation of the ...   \n",
       "1485  3997  When one asks for or claims proof of a scienti...   \n",
       "\n",
       "                                                      r  \n",
       "1925  \"And the Violence Policy Center is somehow mor...  \n",
       "241   \"The first sentence is inaccurate , as is the ...  \n",
       "474   \"So 5,000 to 10,000 women dying from illegal a...  \n",
       "1681  \"If I 'm so pathetic why do n't you start deba...  \n",
       "1485  If you did n't , all you 'd have a creationism...  "
      ]
     },
     "execution_count": 12,
     "metadata": {},
     "output_type": "execute_result"
    }
   ],
   "source": [
    "submission.sample(5)"
   ]
  }
 ],
 "metadata": {
  "kernelspec": {
   "display_name": "Python 3.10.7 ('bertEnv': venv)",
   "language": "python",
   "name": "python3"
  },
  "language_info": {
   "codemirror_mode": {
    "name": "ipython",
    "version": 3
   },
   "file_extension": ".py",
   "mimetype": "text/x-python",
   "name": "python",
   "nbconvert_exporter": "python",
   "pygments_lexer": "ipython3",
   "version": "3.10.7"
  },
  "orig_nbformat": 4,
  "vscode": {
   "interpreter": {
    "hash": "3df01a03ced7e680a43031480445f4f42dc074722258fcaa2e3c400917c2a15b"
   }
  }
 },
 "nbformat": 4,
 "nbformat_minor": 2
}
