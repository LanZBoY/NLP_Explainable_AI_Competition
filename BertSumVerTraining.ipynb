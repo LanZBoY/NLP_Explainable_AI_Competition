{
 "cells": [
  {
   "cell_type": "code",
   "execution_count": 1,
   "metadata": {},
   "outputs": [
    {
     "name": "stderr",
     "output_type": "stream",
     "text": [
      "c:\\Users\\Wen2Tee5\\Desktop\\BERT\\bertEnv\\lib\\site-packages\\tqdm\\auto.py:22: TqdmWarning: IProgress not found. Please update jupyter and ipywidgets. See https://ipywidgets.readthedocs.io/en/stable/user_install.html\n",
      "  from .autonotebook import tqdm as notebook_tqdm\n"
     ]
    }
   ],
   "source": [
    "import torch\n",
    "import pandas as pd\n",
    "from transformers import BertTokenizer, BertModel\n",
    "from torch.utils.data import Dataset, DataLoader\n",
    "from tqdm import tqdm\n",
    "BERT_BASE_CASED = 'bert-base-cased'"
   ]
  },
  {
   "cell_type": "code",
   "execution_count": 2,
   "metadata": {},
   "outputs": [],
   "source": [
    "df = pd.read_csv('./uniqueBertSumTraining.csv')"
   ]
  },
  {
   "cell_type": "code",
   "execution_count": 3,
   "metadata": {},
   "outputs": [
    {
     "name": "stderr",
     "output_type": "stream",
     "text": [
      "Constructing Dataset...: 100%|██████████| 7855/7855 [00:02<00:00, 3292.01it/s]\n"
     ]
    }
   ],
   "source": [
    "class NLPDataset(Dataset):\n",
    "\n",
    "    def __init__(self, df : pd.DataFrame) -> None:\n",
    "        self.tokenizer : BertTokenizer = BertTokenizer.from_pretrained(BERT_BASE_CASED)\n",
    "        self.q_datas = []\n",
    "        self.q_clss_list = []\n",
    "        self.r_datas = []\n",
    "        self.r_clss_list = []\n",
    "        self.s_labels = []\n",
    "        self.q_sent_labels = []\n",
    "        self.r_sent_labels = []\n",
    "        for i in tqdm(df.index, desc=\"Constructing Dataset...\"):\n",
    "            row = df.iloc[i]\n",
    "            q_data = self.tokenizer.encode_plus(row['q_word_token'].split(sep=';'), return_token_type_ids=False, add_special_tokens=False)\n",
    "            q_clss = self.get_cls_indices(q_data['input_ids'])\n",
    "            q_data['token_type_ids'] = eval(f'[{\",\".join(row[\"q_inter_seg\"].split(sep = \";\"))}]')\n",
    "            q_sent_label = eval(f'[{\",\".join(row[\"comp_sent_q\"].split(sep = \";\"))}]')\n",
    "            r_data = self.tokenizer.encode_plus(row['r_word_token'].split(sep=';'), return_token_type_ids=False, add_special_tokens=False)\n",
    "            r_clss = self.get_cls_indices(r_data['input_ids'])\n",
    "            r_data['token_type_ids'] = eval(f'[{\",\".join(row[\"r_inter_seg\"].split(sep = \";\"))}]')\n",
    "            r_sent_label = eval(f'[{\",\".join(row[\"comp_sent_r\"].split(sep = \";\"))}]')\n",
    "            s_label = 1 if row['s'] == \"AGREE\" else 0\n",
    "            self.q_datas.append(q_data)\n",
    "            self.q_clss_list.append(q_clss)\n",
    "            self.r_datas.append(r_data)\n",
    "            self.r_clss_list.append(r_clss)\n",
    "            self.s_labels.append(s_label)\n",
    "            self.q_sent_labels.append(q_sent_label)\n",
    "            self.r_sent_labels.append(r_sent_label)\n",
    "\n",
    "    def get_cls_indices(self, target) -> list:\n",
    "        cls_indices = []\n",
    "        for i, data in enumerate(target):\n",
    "            if (data == 101):\n",
    "                cls_indices.append(i)\n",
    "        return cls_indices\n",
    "\n",
    "    def __len__(self):\n",
    "        return len(self.s_labels)\n",
    "\n",
    "    def __getitem__(self, index):\n",
    "        return (\n",
    "            self.q_datas[index],\n",
    "            self.q_clss_list[index],\n",
    "            self.r_datas[index],\n",
    "            self.r_clss_list[index],\n",
    "            self.s_labels[index],\n",
    "            self.q_sent_labels[index],\n",
    "            self.r_sent_labels[index],\n",
    "            )\n",
    "\n",
    "dataset = NLPDataset(df = df)"
   ]
  },
  {
   "cell_type": "code",
   "execution_count": 4,
   "metadata": {},
   "outputs": [],
   "source": [
    "class SentenceSelector(torch.nn.Module):\n",
    "\n",
    "    def __init__(self) -> None:\n",
    "        super(SentenceSelector, self).__init__()\n",
    "        self.linear = torch.nn.Linear(768, 1)\n",
    "\n",
    "    def forward(self, clss_hiddens):\n",
    "        return self.linear(clss_hiddens)\n",
    "class BertSumExtModel(torch.nn.Module):\n",
    "\n",
    "    def __init__(self) -> None:\n",
    "        super(BertSumExtModel, self).__init__()\n",
    "        self.bertModel = BertModel.from_pretrained(BERT_BASE_CASED, return_dict = False)\n",
    "        self.sentenceSelector = SentenceSelector()\n",
    "\n",
    "    def forward(self, q_data, q_clss, r_data, r_clss):\n",
    "        q_hidden = self.bertModel(**q_data)[0]\n",
    "        r_hidden = self.bertModel(**r_data)[0]\n",
    "        q_clss_hidden = q_hidden[0, q_clss]\n",
    "        r_clss_hidden = r_hidden[0, r_clss]\n",
    "        q_out = self.sentenceSelector(q_clss_hidden)\n",
    "        r_out = self.sentenceSelector(r_clss_hidden)\n",
    "        return q_out, r_out"
   ]
  },
  {
   "cell_type": "code",
   "execution_count": 5,
   "metadata": {},
   "outputs": [
    {
     "name": "stderr",
     "output_type": "stream",
     "text": [
      "Some weights of the model checkpoint at bert-base-cased were not used when initializing BertModel: ['cls.predictions.decoder.weight', 'cls.seq_relationship.bias', 'cls.predictions.transform.LayerNorm.bias', 'cls.predictions.transform.LayerNorm.weight', 'cls.predictions.bias', 'cls.predictions.transform.dense.bias', 'cls.predictions.transform.dense.weight', 'cls.seq_relationship.weight']\n",
      "- This IS expected if you are initializing BertModel from the checkpoint of a model trained on another task or with another architecture (e.g. initializing a BertForSequenceClassification model from a BertForPreTraining model).\n",
      "- This IS NOT expected if you are initializing BertModel from the checkpoint of a model that you expect to be exactly identical (initializing a BertForSequenceClassification model from a BertForSequenceClassification model).\n"
     ]
    }
   ],
   "source": [
    "model = BertSumExtModel().cuda()\n",
    "loss_fn = torch.nn.BCEWithLogitsLoss()\n",
    "# model.load_state_dict(torch.load('./BertSum_WO_Encoder(2).pt'))"
   ]
  },
  {
   "cell_type": "code",
   "execution_count": 6,
   "metadata": {},
   "outputs": [],
   "source": [
    "model_opt = torch.optim.AdamW(model.parameters(), 3.68e-5)"
   ]
  },
  {
   "cell_type": "code",
   "execution_count": 7,
   "metadata": {},
   "outputs": [],
   "source": [
    "lr_sc = torch.optim.lr_scheduler.LinearLR(model_opt, start_factor=0.5, total_iters = 4)"
   ]
  },
  {
   "cell_type": "code",
   "execution_count": 8,
   "metadata": {},
   "outputs": [
    {
     "name": "stderr",
     "output_type": "stream",
     "text": [
      "  4%|▍         | 346/7855 [04:35<1:39:30,  1.26it/s, AVG_LOSS=0.946, CURRENT_LR=1.84e-5] \n"
     ]
    },
    {
     "ename": "KeyboardInterrupt",
     "evalue": "",
     "output_type": "error",
     "traceback": [
      "\u001b[1;31m---------------------------------------------------------------------------\u001b[0m",
      "\u001b[1;31mKeyboardInterrupt\u001b[0m                         Traceback (most recent call last)",
      "Cell \u001b[1;32mIn [8], line 15\u001b[0m\n\u001b[0;32m     13\u001b[0m loss_r \u001b[39m=\u001b[39m loss_fn(r_pred\u001b[39m.\u001b[39mcontiguous()\u001b[39m.\u001b[39mreshape(\u001b[39m1\u001b[39m, \u001b[39m-\u001b[39m\u001b[39m1\u001b[39m), torch\u001b[39m.\u001b[39mtensor([r_sent_label], dtype\u001b[39m=\u001b[39mtorch\u001b[39m.\u001b[39mfloat32)\u001b[39m.\u001b[39mcuda())\n\u001b[0;32m     14\u001b[0m t_loss \u001b[39m=\u001b[39m loss_q \u001b[39m+\u001b[39m loss_r\n\u001b[1;32m---> 15\u001b[0m t_loss\u001b[39m.\u001b[39mbackward()\n\u001b[0;32m     16\u001b[0m model_opt\u001b[39m.\u001b[39mstep()\n\u001b[0;32m     17\u001b[0m total_loss \u001b[39m+\u001b[39m\u001b[39m=\u001b[39m t_loss\u001b[39m.\u001b[39mitem()\n",
      "File \u001b[1;32mc:\\Users\\Wen2Tee5\\Desktop\\BERT\\bertEnv\\lib\\site-packages\\torch\\_tensor.py:487\u001b[0m, in \u001b[0;36mTensor.backward\u001b[1;34m(self, gradient, retain_graph, create_graph, inputs)\u001b[0m\n\u001b[0;32m    477\u001b[0m \u001b[39mif\u001b[39;00m has_torch_function_unary(\u001b[39mself\u001b[39m):\n\u001b[0;32m    478\u001b[0m     \u001b[39mreturn\u001b[39;00m handle_torch_function(\n\u001b[0;32m    479\u001b[0m         Tensor\u001b[39m.\u001b[39mbackward,\n\u001b[0;32m    480\u001b[0m         (\u001b[39mself\u001b[39m,),\n\u001b[1;32m   (...)\u001b[0m\n\u001b[0;32m    485\u001b[0m         inputs\u001b[39m=\u001b[39minputs,\n\u001b[0;32m    486\u001b[0m     )\n\u001b[1;32m--> 487\u001b[0m torch\u001b[39m.\u001b[39;49mautograd\u001b[39m.\u001b[39;49mbackward(\n\u001b[0;32m    488\u001b[0m     \u001b[39mself\u001b[39;49m, gradient, retain_graph, create_graph, inputs\u001b[39m=\u001b[39;49minputs\n\u001b[0;32m    489\u001b[0m )\n",
      "File \u001b[1;32mc:\\Users\\Wen2Tee5\\Desktop\\BERT\\bertEnv\\lib\\site-packages\\torch\\autograd\\__init__.py:197\u001b[0m, in \u001b[0;36mbackward\u001b[1;34m(tensors, grad_tensors, retain_graph, create_graph, grad_variables, inputs)\u001b[0m\n\u001b[0;32m    192\u001b[0m     retain_graph \u001b[39m=\u001b[39m create_graph\n\u001b[0;32m    194\u001b[0m \u001b[39m# The reason we repeat same the comment below is that\u001b[39;00m\n\u001b[0;32m    195\u001b[0m \u001b[39m# some Python versions print out the first line of a multi-line function\u001b[39;00m\n\u001b[0;32m    196\u001b[0m \u001b[39m# calls in the traceback and some print out the last line\u001b[39;00m\n\u001b[1;32m--> 197\u001b[0m Variable\u001b[39m.\u001b[39;49m_execution_engine\u001b[39m.\u001b[39;49mrun_backward(  \u001b[39m# Calls into the C++ engine to run the backward pass\u001b[39;49;00m\n\u001b[0;32m    198\u001b[0m     tensors, grad_tensors_, retain_graph, create_graph, inputs,\n\u001b[0;32m    199\u001b[0m     allow_unreachable\u001b[39m=\u001b[39;49m\u001b[39mTrue\u001b[39;49;00m, accumulate_grad\u001b[39m=\u001b[39;49m\u001b[39mTrue\u001b[39;49;00m)\n",
      "\u001b[1;31mKeyboardInterrupt\u001b[0m: "
     ]
    }
   ],
   "source": [
    "for epoch in range(5):\n",
    "    total_loss = 0.\n",
    "    currentLR = lr_sc.get_last_lr()[0]\n",
    "    train_process = tqdm(dataset)\n",
    "    for batch, (q_data, q_clss, r_data, r_clss, _, q_sent_label, r_sent_label) in enumerate(train_process, start = 1):\n",
    "        q_data = {k: torch.tensor([v]).cuda() for k, v in q_data.items()}\n",
    "        r_data = {k: torch.tensor([v]).cuda() for k, v in r_data.items()}\n",
    "        q_clss = torch.tensor([q_clss]).cuda()\n",
    "        r_clss = torch.tensor([r_clss]).cuda()\n",
    "        model_opt.zero_grad()\n",
    "        q_pred, r_pred = model(q_data, q_clss, r_data, r_clss)\n",
    "        loss_q = loss_fn(q_pred.contiguous().reshape(1, -1), torch.tensor([q_sent_label], dtype=torch.float32).cuda())\n",
    "        loss_r = loss_fn(r_pred.contiguous().reshape(1, -1), torch.tensor([r_sent_label], dtype=torch.float32).cuda())\n",
    "        t_loss = loss_q + loss_r\n",
    "        t_loss.backward()\n",
    "        model_opt.step()\n",
    "        total_loss += t_loss.item()\n",
    "        train_process.set_postfix({\"AVG_LOSS\" : total_loss/ batch, \"CURRENT_LR\" : currentLR})\n",
    "    lr_sc.step()"
   ]
  },
  {
   "cell_type": "code",
   "execution_count": null,
   "metadata": {},
   "outputs": [],
   "source": [
    "torch.save(model.state_dict(), './BertSum_WO_Encoder(3).pt')"
   ]
  }
 ],
 "metadata": {
  "kernelspec": {
   "display_name": "Python 3.10.7 ('bertEnv': venv)",
   "language": "python",
   "name": "python3"
  },
  "language_info": {
   "codemirror_mode": {
    "name": "ipython",
    "version": 3
   },
   "file_extension": ".py",
   "mimetype": "text/x-python",
   "name": "python",
   "nbconvert_exporter": "python",
   "pygments_lexer": "ipython3",
   "version": "3.10.7"
  },
  "orig_nbformat": 4,
  "vscode": {
   "interpreter": {
    "hash": "3df01a03ced7e680a43031480445f4f42dc074722258fcaa2e3c400917c2a15b"
   }
  }
 },
 "nbformat": 4,
 "nbformat_minor": 2
}
