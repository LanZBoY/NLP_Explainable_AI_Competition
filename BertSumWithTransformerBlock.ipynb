{
 "cells": [
  {
   "cell_type": "code",
   "execution_count": 1,
   "metadata": {},
   "outputs": [
    {
     "name": "stderr",
     "output_type": "stream",
     "text": [
      "c:\\Users\\Wen2Tee5\\Desktop\\BERT\\bertEnv\\lib\\site-packages\\tqdm\\auto.py:22: TqdmWarning: IProgress not found. Please update jupyter and ipywidgets. See https://ipywidgets.readthedocs.io/en/stable/user_install.html\n",
      "  from .autonotebook import tqdm as notebook_tqdm\n"
     ]
    }
   ],
   "source": [
    "import torch\n",
    "import pandas as pd\n",
    "from transformers import BertTokenizer, BertModel\n",
    "from torch.utils.data import Dataset, DataLoader\n",
    "from tqdm import tqdm\n",
    "import math\n",
    "BERT_BASE_CASED = 'bert-base-cased'"
   ]
  },
  {
   "cell_type": "code",
   "execution_count": 2,
   "metadata": {},
   "outputs": [],
   "source": [
    "df = pd.read_csv('./uniqueBertSumTraining.csv')"
   ]
  },
  {
   "cell_type": "code",
   "execution_count": 3,
   "metadata": {},
   "outputs": [],
   "source": [
    "class NLPDataset(Dataset):\n",
    "\n",
    "    def __init__(self, df : pd.DataFrame) -> None:\n",
    "        self.tokenizer : BertTokenizer = BertTokenizer.from_pretrained(BERT_BASE_CASED)\n",
    "        self.q_datas = []\n",
    "        self.q_clss_list = []\n",
    "        self.r_datas = []\n",
    "        self.r_clss_list = []\n",
    "        self.s_labels = []\n",
    "        self.q_sent_labels = []\n",
    "        self.r_sent_labels = []\n",
    "        for i in tqdm(df.index, desc=\"Constructing Dataset...\"):\n",
    "            row = df.iloc[i]\n",
    "            q_data = self.tokenizer.encode_plus(row['q_word_token'].split(sep=';'), return_token_type_ids=False, add_special_tokens=False)\n",
    "            q_clss = self.get_cls_indices(q_data['input_ids'])\n",
    "            q_data['token_type_ids'] = eval(f'[{\",\".join(row[\"q_inter_seg\"].split(sep = \";\"))}]')\n",
    "            q_sent_label = eval(f'[{\",\".join(row[\"comp_sent_q\"].split(sep = \";\"))}]')\n",
    "            r_data = self.tokenizer.encode_plus(row['r_word_token'].split(sep=';'), return_token_type_ids=False, add_special_tokens=False)\n",
    "            r_clss = self.get_cls_indices(r_data['input_ids'])\n",
    "            r_data['token_type_ids'] = eval(f'[{\",\".join(row[\"r_inter_seg\"].split(sep = \";\"))}]')\n",
    "            r_sent_label = eval(f'[{\",\".join(row[\"comp_sent_r\"].split(sep = \";\"))}]')\n",
    "            s_label = 1 if row['s'] == \"AGREE\" else 0\n",
    "            self.q_datas.append(q_data)\n",
    "            self.q_clss_list.append(q_clss)\n",
    "            self.r_datas.append(r_data)\n",
    "            self.r_clss_list.append(r_clss)\n",
    "            self.s_labels.append(s_label)\n",
    "            self.q_sent_labels.append(q_sent_label)\n",
    "            self.r_sent_labels.append(r_sent_label)\n",
    "\n",
    "    def get_cls_indices(self, target) -> list:\n",
    "        cls_indices = []\n",
    "        for i, data in enumerate(target):\n",
    "            if (data == 101):\n",
    "                cls_indices.append(i)\n",
    "        return cls_indices\n",
    "\n",
    "    def __len__(self):\n",
    "        return len(self.s_labels)\n",
    "\n",
    "    def __getitem__(self, index):\n",
    "        return (\n",
    "            self.q_datas[index],\n",
    "            self.q_clss_list[index],\n",
    "            self.r_datas[index],\n",
    "            self.r_clss_list[index],\n",
    "            self.s_labels[index],\n",
    "            self.q_sent_labels[index],\n",
    "            self.r_sent_labels[index],\n",
    "            )"
   ]
  },
  {
   "cell_type": "code",
   "execution_count": 4,
   "metadata": {},
   "outputs": [
    {
     "name": "stderr",
     "output_type": "stream",
     "text": [
      "Constructing Dataset...: 100%|██████████| 7855/7855 [00:02<00:00, 3168.48it/s]\n"
     ]
    }
   ],
   "source": [
    "dataset = NLPDataset(df = df)"
   ]
  },
  {
   "cell_type": "code",
   "execution_count": 5,
   "metadata": {},
   "outputs": [],
   "source": [
    "class SentenceSelector(torch.nn.Module):\n",
    "\n",
    "    def __init__(self) -> None:\n",
    "        super(SentenceSelector, self).__init__()\n",
    "        self.linear = torch.nn.Linear(768, 1)\n",
    "\n",
    "    def forward(self, clss_hiddens):\n",
    "        return self.linear(clss_hiddens)\n",
    "\n",
    "\n",
    "class PositionalEncoding(torch.nn.Module):\n",
    "\n",
    "    def __init__(self, dim, dropout = 0.1, max_len = 5000) -> None:\n",
    "        super(PositionalEncoding, self).__init__()\n",
    "        self.pe = torch.zeros(max_len, dim)\n",
    "        position = torch.arange(0, max_len).unsqueeze(1)\n",
    "        div_term = torch.exp((torch.arange(0, dim, 2, dtype=torch.float) *\n",
    "                              -(math.log(10000.0) / dim)))\n",
    "        self.pe[:, 0::2] = torch.sin(position.float() * div_term)\n",
    "        self.pe[:, 1::2] = torch.cos(position.float() * div_term)\n",
    "        self.pe = self.pe.unsqueeze(0)\n",
    "        self.register_buffer(\"PositionalEmb\", self.pe)\n",
    "        self.dropoutLayer = torch.nn.Dropout(p= dropout)\n",
    "        self.dim = dim\n",
    "        self.pe = self.pe.cuda()\n",
    "    \n",
    "    def forward(self, x):\n",
    "        emb = x + self.pe[:, :x.size(1)]\n",
    "        out = self.dropoutLayer(emb)\n",
    "        return out\n",
    "\n",
    "class TransformerBlock(torch.nn.Module):\n",
    "\n",
    "    def __init__(self, embed_dim, num_heads, ff_dim, rate = 0.1) -> None:\n",
    "        super(TransformerBlock, self).__init__()\n",
    "        self.attn = torch.nn.MultiheadAttention(embed_dim = embed_dim, num_heads = num_heads, batch_first = True)\n",
    "        self.ffn = torch.nn.Sequential(\n",
    "            torch.nn.Linear(embed_dim, ff_dim),\n",
    "            torch.nn.GELU(),\n",
    "            torch.nn.Dropout(p = rate),\n",
    "            torch.nn.Linear(ff_dim, embed_dim),\n",
    "            torch.nn.Dropout(p = rate),\n",
    "        )\n",
    "        self.layernorm1 = torch.nn.LayerNorm(embed_dim, eps=1e-6)\n",
    "        self.layernorm2 = torch.nn.LayerNorm(embed_dim, eps=1e-6)\n",
    "        self.dropout = torch.nn.Dropout(rate)\n",
    "\n",
    "    def forward(self, inputs):\n",
    "        attn_output, attn_score = self.attn(inputs, inputs, inputs)\n",
    "        attn_output = self.dropout(attn_output + inputs)\n",
    "        out1 = self.layernorm1(attn_output)\n",
    "        ffn_output = self.ffn(out1)\n",
    "        ffn_output = self.dropout(ffn_output + out1)\n",
    "        return self.layernorm2(ffn_output), attn_score\n",
    "\n",
    "class BertSumExtModel(torch.nn.Module):\n",
    "\n",
    "    def __init__(self, numOfExtLayer = 2, freeze = True) -> None:\n",
    "        super(BertSumExtModel, self).__init__()\n",
    "        self.bertModel = BertModel.from_pretrained(BERT_BASE_CASED, return_dict = False)\n",
    "        self.pe_layer = PositionalEncoding(dim = 768)\n",
    "        self.ext_layer = torch.nn.ModuleList([TransformerBlock(768, 6, 768, rate = 0.1) for _ in range(numOfExtLayer)])\n",
    "        self.layernorm = torch.nn.LayerNorm(768 , eps=1e-6)\n",
    "        self.sentenceSelector = SentenceSelector()\n",
    "        self.freeze = freeze\n",
    "\n",
    "    def forward(self, q_data, q_clss, r_data, r_clss):\n",
    "        if self.freeze:\n",
    "            with torch.no_grad():\n",
    "                q_hidden = self.bertModel(**q_data)[0]\n",
    "                r_hidden = self.bertModel(**r_data)[0]\n",
    "        else: \n",
    "            q_hidden = self.bertModel(**q_data)[0]\n",
    "            r_hidden = self.bertModel(**r_data)[0]\n",
    "        q_clss_hidden = q_hidden[0, q_clss]\n",
    "        r_clss_hidden = r_hidden[0, r_clss]\n",
    "        q_clss_hidden = self.pe_layer(q_clss_hidden)\n",
    "        r_clss_hidden = self.pe_layer(r_clss_hidden)\n",
    "        for transformerBlock in self.ext_layer:\n",
    "            q_clss_hidden, _ = transformerBlock(q_clss_hidden)\n",
    "            r_clss_hidden, _ = transformerBlock(r_clss_hidden)\n",
    "        q_clss_hidden = self.layernorm(q_clss_hidden)\n",
    "        r_clss_hidden = self.layernorm(r_clss_hidden)\n",
    "        q_out = self.sentenceSelector(q_clss_hidden)\n",
    "        r_out = self.sentenceSelector(r_clss_hidden)\n",
    "        return q_out, r_out"
   ]
  },
  {
   "cell_type": "code",
   "execution_count": 6,
   "metadata": {},
   "outputs": [
    {
     "name": "stderr",
     "output_type": "stream",
     "text": [
      "Some weights of the model checkpoint at bert-base-cased were not used when initializing BertModel: ['cls.predictions.transform.dense.weight', 'cls.seq_relationship.bias', 'cls.predictions.transform.LayerNorm.bias', 'cls.predictions.transform.LayerNorm.weight', 'cls.predictions.decoder.weight', 'cls.predictions.bias', 'cls.predictions.transform.dense.bias', 'cls.seq_relationship.weight']\n",
      "- This IS expected if you are initializing BertModel from the checkpoint of a model trained on another task or with another architecture (e.g. initializing a BertForSequenceClassification model from a BertForPreTraining model).\n",
      "- This IS NOT expected if you are initializing BertModel from the checkpoint of a model that you expect to be exactly identical (initializing a BertForSequenceClassification model from a BertForSequenceClassification model).\n"
     ]
    }
   ],
   "source": [
    "model = BertSumExtModel(freeze= True).cuda()\n",
    "loss_fn = torch.nn.BCEWithLogitsLoss()"
   ]
  },
  {
   "cell_type": "code",
   "execution_count": 7,
   "metadata": {},
   "outputs": [],
   "source": [
    "model_opt = torch.optim.AdamW(model.parameters(), lr = 3.68e-5)"
   ]
  },
  {
   "cell_type": "code",
   "execution_count": 8,
   "metadata": {},
   "outputs": [],
   "source": [
    "lr_sc = torch.optim.lr_scheduler.LinearLR(model_opt, start_factor=0.5, total_iters = 5)"
   ]
  },
  {
   "cell_type": "code",
   "execution_count": 9,
   "metadata": {},
   "outputs": [
    {
     "name": "stderr",
     "output_type": "stream",
     "text": [
      "100%|██████████| 7855/7855 [08:59<00:00, 14.55it/s, CURRENT_LR=1.84e-5, AVG_LOSS=0.903]\n",
      "100%|██████████| 7855/7855 [08:59<00:00, 14.57it/s, CURRENT_LR=2.21e-5, AVG_LOSS=0.886]\n",
      "100%|██████████| 7855/7855 [08:57<00:00, 14.62it/s, CURRENT_LR=2.58e-5, AVG_LOSS=0.879]\n",
      "100%|██████████| 7855/7855 [08:58<00:00, 14.60it/s, CURRENT_LR=2.94e-5, AVG_LOSS=0.883]\n",
      "100%|██████████| 7855/7855 [08:58<00:00, 14.59it/s, CURRENT_LR=3.31e-5, AVG_LOSS=0.878]\n",
      "100%|██████████| 7855/7855 [08:57<00:00, 14.61it/s, CURRENT_LR=3.68e-5, AVG_LOSS=0.877]\n",
      "100%|██████████| 7855/7855 [08:57<00:00, 14.60it/s, CURRENT_LR=3.68e-5, AVG_LOSS=0.875]\n",
      "100%|██████████| 7855/7855 [08:58<00:00, 14.60it/s, CURRENT_LR=3.68e-5, AVG_LOSS=0.883]\n",
      "100%|██████████| 7855/7855 [08:58<00:00, 14.57it/s, CURRENT_LR=3.68e-5, AVG_LOSS=0.877]\n",
      "100%|██████████| 7855/7855 [08:58<00:00, 14.59it/s, CURRENT_LR=3.68e-5, AVG_LOSS=0.874]\n"
     ]
    }
   ],
   "source": [
    "for epoch in range(10):\n",
    "    total_loss = 0.\n",
    "    currentLR = lr_sc.get_last_lr()[0]\n",
    "    train_process = tqdm(dataset)\n",
    "    for batch, (q_data, q_clss, r_data, r_clss, _, q_sent_label, r_sent_label) in enumerate(train_process, start = 1):\n",
    "        q_data = {k: torch.tensor([v]).cuda() for k, v in q_data.items()}\n",
    "        r_data = {k: torch.tensor([v]).cuda() for k, v in r_data.items()}\n",
    "        q_clss = torch.tensor([q_clss]).cuda()\n",
    "        r_clss = torch.tensor([r_clss]).cuda()\n",
    "        model_opt.zero_grad()\n",
    "        q_pred, r_pred = model(q_data, q_clss, r_data, r_clss)\n",
    "        loss_q = loss_fn(q_pred.contiguous().reshape(1, -1), torch.tensor([q_sent_label], dtype=torch.float32).cuda())\n",
    "        loss_r = loss_fn(r_pred.contiguous().reshape(1, -1), torch.tensor([r_sent_label], dtype=torch.float32).cuda())\n",
    "        t_loss = loss_q + loss_r\n",
    "        t_loss.backward()\n",
    "        model_opt.step()\n",
    "        total_loss += t_loss.item()\n",
    "        train_process.set_postfix({ \"CURRENT_LR\" : currentLR, \"AVG_LOSS\" : total_loss/ batch})\n",
    "    lr_sc.step()"
   ]
  },
  {
   "cell_type": "code",
   "execution_count": 10,
   "metadata": {},
   "outputs": [],
   "source": [
    "torch.save(model.state_dict(), './BertSum_With_Encoder.pt')"
   ]
  }
 ],
 "metadata": {
  "kernelspec": {
   "display_name": "Python 3.10.7 ('bertEnv': venv)",
   "language": "python",
   "name": "python3"
  },
  "language_info": {
   "codemirror_mode": {
    "name": "ipython",
    "version": 3
   },
   "file_extension": ".py",
   "mimetype": "text/x-python",
   "name": "python",
   "nbconvert_exporter": "python",
   "pygments_lexer": "ipython3",
   "version": "3.10.7"
  },
  "orig_nbformat": 4,
  "vscode": {
   "interpreter": {
    "hash": "3df01a03ced7e680a43031480445f4f42dc074722258fcaa2e3c400917c2a15b"
   }
  }
 },
 "nbformat": 4,
 "nbformat_minor": 2
}
