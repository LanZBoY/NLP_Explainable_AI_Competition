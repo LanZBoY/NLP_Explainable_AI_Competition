{
 "cells": [
  {
   "cell_type": "code",
   "execution_count": 1,
   "metadata": {},
   "outputs": [],
   "source": [
    "import pandas as pd\n",
    "import numpy as np\n",
    "from nltk import word_tokenize\n",
    "from tqdm import tqdm\n",
    "PUNCATUATION = '''!\\\"#$%&\\'()*+, -./:;<=>?@[\\]^_`{|}~'''\n",
    "MAX_LEN = 500"
   ]
  },
  {
   "cell_type": "code",
   "execution_count": 2,
   "metadata": {},
   "outputs": [],
   "source": [
    "def preProcess(sent: str):\n",
    "    sent = sent.strip('\\\"')\n",
    "    sent = word_tokenize(sent)\n",
    "    for i in PUNCATUATION:\n",
    "        if i in sent:\n",
    "            sent = list(filter(i.__ne__, sent))\n",
    "    if len(sent) == 0:\n",
    "        sent.append(' ')\n",
    "    return ' '.join(sent)\n",
    "\n",
    "def compare_token(sent_a_list, sent_b_list):\n",
    "    result_list = []\n",
    "    for sent_a, sent_b in zip(sent_a_list, sent_b_list):\n",
    "        compare_result = []\n",
    "        a_tokens = sent_a.split(sep=' ')\n",
    "        b_tokens = sent_b.split(sep=' ')\n",
    "        a_idx = 0\n",
    "        b_idx = 0\n",
    "        while a_idx < len(a_tokens):\n",
    "            if b_idx == len(b_tokens):\n",
    "                a_idx += 1\n",
    "                compare_result.append(0)\n",
    "                continue\n",
    "            if a_tokens[a_idx] != b_tokens[b_idx]:\n",
    "                a_idx += 1\n",
    "                compare_result.append(0)\n",
    "            elif a_tokens[a_idx] == b_tokens[b_idx]:\n",
    "                a_idx += 1\n",
    "                b_idx += 1\n",
    "                compare_result.append(1)\n",
    "        assert len(a_tokens) == len(compare_result), \"ERROR, Len of tokens not equal to len of result!\"\n",
    "        result_list.append(compare_result)\n",
    "    return result_list"
   ]
  },
  {
   "cell_type": "code",
   "execution_count": 3,
   "metadata": {},
   "outputs": [],
   "source": [
    "BERT_BASE_CASED = 'bert-base-cased'"
   ]
  },
  {
   "cell_type": "code",
   "execution_count": 4,
   "metadata": {},
   "outputs": [],
   "source": [
    "dataFrame = pd.read_csv('./Batch_answers - train_data (no-blank).csv')\n",
    "dataFrame.drop(labels=['Unnamed: 6', 'total no.: 7987'], axis=1 ,inplace=True) # 將不必要的drop掉\n",
    "dataFrame.rename({\"q\\'\":\"Q\", \"r\\'\":\"R\"}, axis=1, inplace=True)"
   ]
  },
  {
   "cell_type": "code",
   "execution_count": 5,
   "metadata": {},
   "outputs": [
    {
     "data": {
      "text/html": [
       "<div>\n",
       "<style scoped>\n",
       "    .dataframe tbody tr th:only-of-type {\n",
       "        vertical-align: middle;\n",
       "    }\n",
       "\n",
       "    .dataframe tbody tr th {\n",
       "        vertical-align: top;\n",
       "    }\n",
       "\n",
       "    .dataframe thead th {\n",
       "        text-align: right;\n",
       "    }\n",
       "</style>\n",
       "<table border=\"1\" class=\"dataframe\">\n",
       "  <thead>\n",
       "    <tr style=\"text-align: right;\">\n",
       "      <th></th>\n",
       "      <th>id</th>\n",
       "      <th>q</th>\n",
       "      <th>r</th>\n",
       "      <th>s</th>\n",
       "      <th>Q</th>\n",
       "      <th>R</th>\n",
       "    </tr>\n",
       "  </thead>\n",
       "  <tbody>\n",
       "    <tr>\n",
       "      <th>6598</th>\n",
       "      <td>1757</td>\n",
       "      <td>\"Here 's an analogy Marc9000 : Ridiculously Ab...</td>\n",
       "      <td>\"I am not sure Marc will show up here much . I...</td>\n",
       "      <td>AGREE</td>\n",
       "      <td>\"Here 's an analogy Marc9000 : Ridiculously Ab...</td>\n",
       "      <td>\"I am not sure Marc will show up here much . I...</td>\n",
       "    </tr>\n",
       "    <tr>\n",
       "      <th>3056</th>\n",
       "      <td>805</td>\n",
       "      <td>\"So you may want us to believe that abandoning...</td>\n",
       "      <td>\"I spoke no lies . I can substantiate my posit...</td>\n",
       "      <td>DISAGREE</td>\n",
       "      <td>\"as abandoning Gods truths never leads to good...</td>\n",
       "      <td>\"I can substantiate my position WITH POLLS tha...</td>\n",
       "    </tr>\n",
       "    <tr>\n",
       "      <th>20759</th>\n",
       "      <td>5461</td>\n",
       "      <td>\"In the vanishingly small likelihood of the ev...</td>\n",
       "      <td>\"That 's why the Second Amendment protects the...</td>\n",
       "      <td>DISAGREE</td>\n",
       "      <td>\"your handgun is not going to face them down o...</td>\n",
       "      <td>\"That 's why the Second Amendment protects the...</td>\n",
       "    </tr>\n",
       "    <tr>\n",
       "      <th>18657</th>\n",
       "      <td>4975</td>\n",
       "      <td>\"Ok , this does n't address my point which is ...</td>\n",
       "      <td>\"Well , you know what happens when they try to...</td>\n",
       "      <td>AGREE</td>\n",
       "      <td>\"this does n't address my point which is that ...</td>\n",
       "      <td>\"you know what happens when they try to elimin...</td>\n",
       "    </tr>\n",
       "    <tr>\n",
       "      <th>11063</th>\n",
       "      <td>2942</td>\n",
       "      <td>\"So Simone , if the shooter had instead driven...</td>\n",
       "      <td>\"I think the correct term is Priuseses\"</td>\n",
       "      <td>DISAGREE</td>\n",
       "      <td>\"if the shooter had instead driven his Toyota ...</td>\n",
       "      <td>\"I think the correct term is Priuseses\"</td>\n",
       "    </tr>\n",
       "    <tr>\n",
       "      <th>38128</th>\n",
       "      <td>9956</td>\n",
       "      <td>\"HUNTSVILLE , AL Â– Jesus Christ , son of God ...</td>\n",
       "      <td>\"Christ Kills Two , Injures Seven In Abortion-...</td>\n",
       "      <td>DISAGREE</td>\n",
       "      <td>\"Jesus Christ killed two wounded seven others ...</td>\n",
       "      <td>\"Christ Kills Two , Injures Seven In Abortion-...</td>\n",
       "    </tr>\n",
       "  </tbody>\n",
       "</table>\n",
       "</div>"
      ],
      "text/plain": [
       "         id                                                  q  \\\n",
       "6598   1757  \"Here 's an analogy Marc9000 : Ridiculously Ab...   \n",
       "3056    805  \"So you may want us to believe that abandoning...   \n",
       "20759  5461  \"In the vanishingly small likelihood of the ev...   \n",
       "18657  4975  \"Ok , this does n't address my point which is ...   \n",
       "11063  2942  \"So Simone , if the shooter had instead driven...   \n",
       "38128  9956  \"HUNTSVILLE , AL Â– Jesus Christ , son of God ...   \n",
       "\n",
       "                                                       r         s  \\\n",
       "6598   \"I am not sure Marc will show up here much . I...     AGREE   \n",
       "3056   \"I spoke no lies . I can substantiate my posit...  DISAGREE   \n",
       "20759  \"That 's why the Second Amendment protects the...  DISAGREE   \n",
       "18657  \"Well , you know what happens when they try to...     AGREE   \n",
       "11063            \"I think the correct term is Priuseses\"  DISAGREE   \n",
       "38128  \"Christ Kills Two , Injures Seven In Abortion-...  DISAGREE   \n",
       "\n",
       "                                                       Q  \\\n",
       "6598   \"Here 's an analogy Marc9000 : Ridiculously Ab...   \n",
       "3056   \"as abandoning Gods truths never leads to good...   \n",
       "20759  \"your handgun is not going to face them down o...   \n",
       "18657  \"this does n't address my point which is that ...   \n",
       "11063  \"if the shooter had instead driven his Toyota ...   \n",
       "38128  \"Jesus Christ killed two wounded seven others ...   \n",
       "\n",
       "                                                       R  \n",
       "6598   \"I am not sure Marc will show up here much . I...  \n",
       "3056   \"I can substantiate my position WITH POLLS tha...  \n",
       "20759  \"That 's why the Second Amendment protects the...  \n",
       "18657  \"you know what happens when they try to elimin...  \n",
       "11063            \"I think the correct term is Priuseses\"  \n",
       "38128  \"Christ Kills Two , Injures Seven In Abortion-...  "
      ]
     },
     "execution_count": 5,
     "metadata": {},
     "output_type": "execute_result"
    }
   ],
   "source": [
    "dataFrame.sample(6) # 看六個row 來確認資料屬性"
   ]
  },
  {
   "cell_type": "code",
   "execution_count": 6,
   "metadata": {},
   "outputs": [
    {
     "name": "stdout",
     "output_type": "stream",
     "text": [
      "Preprocessing q ...\n",
      "Preprocessing r ...\n",
      "Preprocessing Q ...\n",
      "Preprocessing R ...\n"
     ]
    }
   ],
   "source": [
    "print(\"Preprocessing q ...\")\n",
    "dataFrame['q'] = dataFrame['q'].map(preProcess)\n",
    "print(\"Preprocessing r ...\")\n",
    "dataFrame['r'] = dataFrame['r'].map(preProcess)\n",
    "print(\"Preprocessing Q ...\")\n",
    "dataFrame['Q'] = dataFrame['Q'].map(preProcess)\n",
    "print(\"Preprocessing R ...\")\n",
    "dataFrame['R'] = dataFrame['R'].map(preProcess)"
   ]
  },
  {
   "cell_type": "code",
   "execution_count": 7,
   "metadata": {},
   "outputs": [],
   "source": [
    "dataFrame['com_q'] = compare_token(dataFrame['q'], dataFrame['Q'])\n",
    "dataFrame['com_r'] = compare_token(dataFrame['r'], dataFrame['R'])"
   ]
  },
  {
   "cell_type": "code",
   "execution_count": 10,
   "metadata": {},
   "outputs": [
    {
     "data": {
      "text/plain": [
       "DISAGREE    31428\n",
       "AGREE        6918\n",
       "Name: s, dtype: int64"
      ]
     },
     "execution_count": 10,
     "metadata": {},
     "output_type": "execute_result"
    }
   ],
   "source": [
    "dataFrame['s'].value_counts()"
   ]
  },
  {
   "cell_type": "code",
   "execution_count": 11,
   "metadata": {},
   "outputs": [],
   "source": [
    "dataFrame.to_csv('PreprocessFullData.csv', index=False)"
   ]
  }
 ],
 "metadata": {
  "kernelspec": {
   "display_name": "Python 3.10.7 ('bertEnv': venv)",
   "language": "python",
   "name": "python3"
  },
  "language_info": {
   "codemirror_mode": {
    "name": "ipython",
    "version": 3
   },
   "file_extension": ".py",
   "mimetype": "text/x-python",
   "name": "python",
   "nbconvert_exporter": "python",
   "pygments_lexer": "ipython3",
   "version": "3.10.7"
  },
  "orig_nbformat": 4,
  "vscode": {
   "interpreter": {
    "hash": "3df01a03ced7e680a43031480445f4f42dc074722258fcaa2e3c400917c2a15b"
   }
  }
 },
 "nbformat": 4,
 "nbformat_minor": 2
}
