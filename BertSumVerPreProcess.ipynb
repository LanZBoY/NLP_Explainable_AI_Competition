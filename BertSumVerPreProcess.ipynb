{
 "cells": [
  {
   "cell_type": "code",
   "execution_count": 1,
   "metadata": {},
   "outputs": [],
   "source": [
    "import pandas as pd\n",
    "from tqdm import tqdm"
   ]
  },
  {
   "cell_type": "code",
   "execution_count": 2,
   "metadata": {},
   "outputs": [],
   "source": [
    "dataframe = pd.read_csv('./BertSumTrainingImproved.csv')"
   ]
  },
  {
   "cell_type": "code",
   "execution_count": 6,
   "metadata": {},
   "outputs": [
    {
     "data": {
      "text/plain": [
       "'[CLS];http;//www.nytimes.com/2009/09/27/ma;...;27tools-t.html;In;other;words;a;lot;of;these;kids;never;grow;up;[SEP];[CLS];And;then;they;get;guns;[SEP];[CLS];And;did;I;mention;the;hormone;was;testosterone;[SEP]'"
      ]
     },
     "execution_count": 6,
     "metadata": {},
     "output_type": "execute_result"
    }
   ],
   "source": [
    "dataframe.sample(2).iloc[0][\"q_word_token\"]"
   ]
  },
  {
   "cell_type": "code",
   "execution_count": 7,
   "metadata": {},
   "outputs": [],
   "source": [
    "dataframe.drop(columns=['Unnamed: 6', 'total no.: 7987'], inplace=True)"
   ]
  },
  {
   "cell_type": "code",
   "execution_count": 8,
   "metadata": {},
   "outputs": [],
   "source": [
    "dataframe['q_len'] = dataframe['q_word_token'].map(lambda x : len(x.split(sep = ';')))\n",
    "dataframe['r_len'] = dataframe['r_word_token'].map(lambda x : len(x.split(sep = ';')))"
   ]
  },
  {
   "cell_type": "code",
   "execution_count": 9,
   "metadata": {},
   "outputs": [],
   "source": [
    "dataframe.drop(index=dataframe[dataframe['q_len'] > 512].index, axis=1, inplace=True)\n",
    "dataframe.drop(index=dataframe[dataframe['r_len'] > 512].index, axis=1, inplace=True)"
   ]
  },
  {
   "cell_type": "code",
   "execution_count": 10,
   "metadata": {},
   "outputs": [
    {
     "name": "stderr",
     "output_type": "stream",
     "text": [
      "100%|██████████| 7855/7855 [00:05<00:00, 1445.66it/s]\n"
     ]
    }
   ],
   "source": [
    "uniqueDatafrme = []\n",
    "for id in tqdm(dataframe['id'].unique()):\n",
    "    q = dataframe.query(\"@id == id\")\n",
    "    uniqueDatafrme.append(q.iloc[0])\n",
    "uniqueDatafrme = pd.DataFrame(uniqueDatafrme)"
   ]
  },
  {
   "cell_type": "code",
   "execution_count": 11,
   "metadata": {},
   "outputs": [
    {
     "data": {
      "text/html": [
       "<div>\n",
       "<style scoped>\n",
       "    .dataframe tbody tr th:only-of-type {\n",
       "        vertical-align: middle;\n",
       "    }\n",
       "\n",
       "    .dataframe tbody tr th {\n",
       "        vertical-align: top;\n",
       "    }\n",
       "\n",
       "    .dataframe thead th {\n",
       "        text-align: right;\n",
       "    }\n",
       "</style>\n",
       "<table border=\"1\" class=\"dataframe\">\n",
       "  <thead>\n",
       "    <tr style=\"text-align: right;\">\n",
       "      <th></th>\n",
       "      <th>id</th>\n",
       "      <th>q</th>\n",
       "      <th>r</th>\n",
       "      <th>s</th>\n",
       "      <th>q'</th>\n",
       "      <th>r'</th>\n",
       "      <th>q_word_token</th>\n",
       "      <th>r_word_token</th>\n",
       "      <th>q_inter_seg</th>\n",
       "      <th>r_inter_seg</th>\n",
       "      <th>comp_q</th>\n",
       "      <th>comp_r</th>\n",
       "      <th>comp_sent_q</th>\n",
       "      <th>comp_sent_r</th>\n",
       "      <th>q_len</th>\n",
       "      <th>r_len</th>\n",
       "    </tr>\n",
       "  </thead>\n",
       "  <tbody>\n",
       "    <tr>\n",
       "      <th>7780</th>\n",
       "      <td>2063</td>\n",
       "      <td>\"Have n't you seen all of the programs and New...</td>\n",
       "      <td>\"Yes they sure will .... with what 776 acciden...</td>\n",
       "      <td>DISAGREE</td>\n",
       "      <td>\"toilet seat wrapped around their neck ! ( Som...</td>\n",
       "      <td>\"But if your intellect is not up to understand...</td>\n",
       "      <td>[CLS];Have;n't;you;seen;all;of;the;programs;an...</td>\n",
       "      <td>[CLS];Yes;they;sure;will;....;with;what;776;ac...</td>\n",
       "      <td>0;0;0;0;0;0;0;0;0;0;0;0;0;0;0;0;0;0;0;0;0;0;0;...</td>\n",
       "      <td>0;0;0;0;0;0;0;0;0;0;0;0;0;0;0;0;0;0;0;0;0;0;0;...</td>\n",
       "      <td>0;0;0;0;0;0;0;0;0;0;0;0;0;0;0;0;0;0;0;0;1;0;0;...</td>\n",
       "      <td>0;0;0;0;0;0;0;0;0;0;0;0;0;0;0;0;0;0;0;0;0;0;0;...</td>\n",
       "      <td>1;1;1;1;0</td>\n",
       "      <td>0;1</td>\n",
       "      <td>68</td>\n",
       "      <td>67</td>\n",
       "    </tr>\n",
       "    <tr>\n",
       "      <th>4686</th>\n",
       "      <td>1221</td>\n",
       "      <td>\"Hey Sarge , add Democratic on their , and it ...</td>\n",
       "      <td>\"Good idea !\"</td>\n",
       "      <td>AGREE</td>\n",
       "      <td>\"add Democratic on their , and it could be cal...</td>\n",
       "      <td>\"Good idea !\"</td>\n",
       "      <td>[CLS];Hey;Sarge;add;Democratic;on;their;and;it...</td>\n",
       "      <td>[CLS];Good;idea;[SEP]</td>\n",
       "      <td>0;0;0;0;0;0;0;0;0;0;0;0;0;0;0;0;0;0;0;0;0;0;0;...</td>\n",
       "      <td>0;0;0;0</td>\n",
       "      <td>0;0;0;1;1;1;1;1;1;1;1;1;1;1;0;0;0;0;0;0;0;0;0;...</td>\n",
       "      <td>0;1;1;0</td>\n",
       "      <td>1</td>\n",
       "      <td>1</td>\n",
       "      <td>32</td>\n",
       "      <td>4</td>\n",
       "    </tr>\n",
       "  </tbody>\n",
       "</table>\n",
       "</div>"
      ],
      "text/plain": [
       "        id                                                  q  \\\n",
       "7780  2063  \"Have n't you seen all of the programs and New...   \n",
       "4686  1221  \"Hey Sarge , add Democratic on their , and it ...   \n",
       "\n",
       "                                                      r         s  \\\n",
       "7780  \"Yes they sure will .... with what 776 acciden...  DISAGREE   \n",
       "4686                                      \"Good idea !\"     AGREE   \n",
       "\n",
       "                                                     q'  \\\n",
       "7780  \"toilet seat wrapped around their neck ! ( Som...   \n",
       "4686  \"add Democratic on their , and it could be cal...   \n",
       "\n",
       "                                                     r'  \\\n",
       "7780  \"But if your intellect is not up to understand...   \n",
       "4686                                      \"Good idea !\"   \n",
       "\n",
       "                                           q_word_token  \\\n",
       "7780  [CLS];Have;n't;you;seen;all;of;the;programs;an...   \n",
       "4686  [CLS];Hey;Sarge;add;Democratic;on;their;and;it...   \n",
       "\n",
       "                                           r_word_token  \\\n",
       "7780  [CLS];Yes;they;sure;will;....;with;what;776;ac...   \n",
       "4686                              [CLS];Good;idea;[SEP]   \n",
       "\n",
       "                                            q_inter_seg  \\\n",
       "7780  0;0;0;0;0;0;0;0;0;0;0;0;0;0;0;0;0;0;0;0;0;0;0;...   \n",
       "4686  0;0;0;0;0;0;0;0;0;0;0;0;0;0;0;0;0;0;0;0;0;0;0;...   \n",
       "\n",
       "                                            r_inter_seg  \\\n",
       "7780  0;0;0;0;0;0;0;0;0;0;0;0;0;0;0;0;0;0;0;0;0;0;0;...   \n",
       "4686                                            0;0;0;0   \n",
       "\n",
       "                                                 comp_q  \\\n",
       "7780  0;0;0;0;0;0;0;0;0;0;0;0;0;0;0;0;0;0;0;0;1;0;0;...   \n",
       "4686  0;0;0;1;1;1;1;1;1;1;1;1;1;1;0;0;0;0;0;0;0;0;0;...   \n",
       "\n",
       "                                                 comp_r comp_sent_q  \\\n",
       "7780  0;0;0;0;0;0;0;0;0;0;0;0;0;0;0;0;0;0;0;0;0;0;0;...   1;1;1;1;0   \n",
       "4686                                            0;1;1;0           1   \n",
       "\n",
       "     comp_sent_r  q_len  r_len  \n",
       "7780         0;1     68     67  \n",
       "4686           1     32      4  "
      ]
     },
     "execution_count": 11,
     "metadata": {},
     "output_type": "execute_result"
    }
   ],
   "source": [
    "uniqueDatafrme.sample(2)"
   ]
  },
  {
   "cell_type": "code",
   "execution_count": 8,
   "metadata": {},
   "outputs": [],
   "source": [
    "uniqueDatafrme.to_csv('./uniqueBertSumTraining.csv', columns=['id', 's', 'q_word_token', 'r_word_token', 'q_inter_seg', 'r_inter_seg', 'comp_sent_q', 'comp_sent_r'], index=False)"
   ]
  }
 ],
 "metadata": {
  "kernelspec": {
   "display_name": "Python 3.10.7 ('bertEnv': venv)",
   "language": "python",
   "name": "python3"
  },
  "language_info": {
   "codemirror_mode": {
    "name": "ipython",
    "version": 3
   },
   "file_extension": ".py",
   "mimetype": "text/x-python",
   "name": "python",
   "nbconvert_exporter": "python",
   "pygments_lexer": "ipython3",
   "version": "3.10.7"
  },
  "orig_nbformat": 4,
  "vscode": {
   "interpreter": {
    "hash": "3df01a03ced7e680a43031480445f4f42dc074722258fcaa2e3c400917c2a15b"
   }
  }
 },
 "nbformat": 4,
 "nbformat_minor": 2
}
